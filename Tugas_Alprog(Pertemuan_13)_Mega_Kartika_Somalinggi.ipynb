{
  "nbformat": 4,
  "nbformat_minor": 0,
  "metadata": {
    "colab": {
      "name": "Tugas Alprog(Pertemuan 13) Mega Kartika Somalinggi",
      "provenance": [],
      "authorship_tag": "ABX9TyPd10JIkycfZ96ECRo9FNUt",
      "include_colab_link": true
    },
    "kernelspec": {
      "name": "python3",
      "display_name": "Python 3"
    },
    "language_info": {
      "name": "python"
    }
  },
  "cells": [
    {
      "cell_type": "markdown",
      "metadata": {
        "id": "view-in-github",
        "colab_type": "text"
      },
      "source": [
        "<a href=\"https://colab.research.google.com/github/megasomalinggi/Tugas_Alprog-Pertemuan_13-_Mega_Kartika_Somalinggi.ipynb/blob/main/Tugas_Alprog(Pertemuan_13)_Mega_Kartika_Somalinggi.ipynb\" target=\"_parent\"><img src=\"https://colab.research.google.com/assets/colab-badge.svg\" alt=\"Open In Colab\"/></a>"
      ]
    },
    {
      "cell_type": "markdown",
      "source": [
        "Buatlah program untuk menghitung penjumlahan 2 buah matriks!\n"
      ],
      "metadata": {
        "id": "Wr9DBhvd_vXK"
      }
    },
    {
      "cell_type": "code",
      "execution_count": null,
      "metadata": {
        "colab": {
          "base_uri": "https://localhost:8080/"
        },
        "id": "pZ1wc4-J97sK",
        "outputId": "c42a036b-18b7-4492-e14c-a9695bd91891"
      },
      "outputs": [
        {
          "output_type": "stream",
          "name": "stdout",
          "text": [
            "4 0 9 18 "
          ]
        }
      ],
      "source": [
        "mat1 = [[3, 0],[4, 9],]\n",
        "mat2 = [[1, 0],[5, 9],]\n",
        "\n",
        "for x in range(0, len(mat1)):\n",
        "    for y in range(0, len(mat1[0])):\n",
        "        print (mat1[x][y] + mat2[x][y], end=' '),\n",
        "    print\n"
      ]
    },
    {
      "cell_type": "markdown",
      "source": [
        "1.buatlah program untuk menghitung total pembelian N buah barang dengan harga dan jumlah tertentu\n"
      ],
      "metadata": {
        "id": "m6IcMR49A2th"
      }
    },
    {
      "cell_type": "code",
      "source": [
        "x = int(input(\"Masukkan jumlah barang :\"))\n",
        "bayar =x\n",
        "if x<140:\n",
        "   bayar =x*11000\n",
        "   print(\"Harga/barang rp.11000 \")\n",
        "elif x>=140 and x<200:\n",
        "   bayar =x*10000\n",
        "   print(\"Harga/barang rp.10000 \")\n",
        "elif x>=200: \n",
        "   bayar =x*9500\n",
        "   print(\"Harga/barang rp.9500 \")\n",
        "\n",
        "print(\"Total harga yang harus dibayar : Rp. %s\"%bayar )"
      ],
      "metadata": {
        "colab": {
          "base_uri": "https://localhost:8080/"
        },
        "id": "XM1dZ8h8A0_C",
        "outputId": "a497969e-5d57-4a00-ff34-cf1625ae61d2"
      },
      "execution_count": null,
      "outputs": [
        {
          "output_type": "stream",
          "name": "stdout",
          "text": [
            "Masukkan jumlah barang :100\n",
            "Harga/barang rp.11000 \n",
            "Total harga yang harus dibayar : Rp. 1100000\n"
          ]
        }
      ]
    },
    {
      "cell_type": "markdown",
      "source": [
        "2.buatlah program untuk menghitung banyaknya bilangan genap ataupun bilangan ganjil dari N buah bilangan yang diinput secara acak\n"
      ],
      "metadata": {
        "id": "WOJpf8SuIMOY"
      }
    },
    {
      "cell_type": "code",
      "source": [
        "N=int (input(\"Masukkan jumlah data = \"))\n",
        "for i in range (1,N,2) :\n",
        "    print (i,\"adalah bilangan ganjil\")\n",
        "    print (i+1,\"adalah bilangan genap\")\n",
        "\n",
        "if N%2 !=0 :\n",
        "  print (N,\"adalah bilangan ganjil\")"
      ],
      "metadata": {
        "id": "blCQSRfOIUhT",
        "colab": {
          "base_uri": "https://localhost:8080/"
        },
        "outputId": "77096a62-2605-46f4-dfc0-362f275d0f69"
      },
      "execution_count": null,
      "outputs": [
        {
          "output_type": "stream",
          "name": "stdout",
          "text": [
            "Masukkan jumlah data = 10\n",
            "1 adalah bilangan ganjil\n",
            "2 adalah bilangan genap\n",
            "3 adalah bilangan ganjil\n",
            "4 adalah bilangan genap\n",
            "5 adalah bilangan ganjil\n",
            "6 adalah bilangan genap\n",
            "7 adalah bilangan ganjil\n",
            "8 adalah bilangan genap\n",
            "9 adalah bilangan ganjil\n",
            "10 adalah bilangan genap\n"
          ]
        }
      ]
    },
    {
      "cell_type": "markdown",
      "source": [
        "3.Buatlah program untuk menampilkan bilangan kelipatan 3 diantara bilangan tertentu "
      ],
      "metadata": {
        "id": "unJoTmOQSG65"
      }
    },
    {
      "cell_type": "code",
      "source": [
        "x = int(input ('Masukkan angka : '))\n",
        "if x & 3 == 0 :\n",
        "   print('Nilai kelipatan 3')\n",
        "else :\n",
        "   print('Bukan nilai kelipatan 3')"
      ],
      "metadata": {
        "id": "ciqFU7WVSUmx",
        "colab": {
          "base_uri": "https://localhost:8080/"
        },
        "outputId": "bc05c94d-cac7-48c0-ad2f-40cc97d736c0"
      },
      "execution_count": null,
      "outputs": [
        {
          "output_type": "stream",
          "name": "stdout",
          "text": [
            "Masukkan angka : 12\n",
            "Nilai kelipatan 3\n"
          ]
        }
      ]
    },
    {
      "cell_type": "markdown",
      "source": [
        "4.buatlah program untuk menampilkan bentuk bilangan seperti berikut ini: <input suatu bilangan (misal :5>"
      ],
      "metadata": {
        "id": "PgOMenGMOEtJ"
      }
    },
    {
      "cell_type": "code",
      "source": [
        "n = \"\"\n",
        "for i in range (1,6):\n",
        "    n += str(i)+\"\"\n",
        "    print(n)"
      ],
      "metadata": {
        "colab": {
          "base_uri": "https://localhost:8080/"
        },
        "id": "CZx9doLfNC77",
        "outputId": "0619f4d2-083b-40e0-cc83-f927e610d4d7"
      },
      "execution_count": null,
      "outputs": [
        {
          "output_type": "stream",
          "name": "stdout",
          "text": [
            "1\n",
            "12\n",
            "123\n",
            "1234\n",
            "12345\n"
          ]
        }
      ]
    },
    {
      "cell_type": "markdown",
      "source": [
        "5.Buatlah program untuk menghitung dan menampilkan bentuk berikut ini:"
      ],
      "metadata": {
        "id": "ZzsyhYYbRluK"
      }
    },
    {
      "cell_type": "code",
      "source": [
        "nama = input(\"nama :\")\n",
        "nim  = input(\"nim:\")\n",
        "prodi= input(\"prodi :\")\n",
        "\n",
        "def fungsi_total_nilai (Nilai_Tugas,nilai_Kuis,Nilai_UTS,nilai_UAS):\n",
        "    Nilai_Tugas = int (Nilai_Tugas) *0.3\n",
        "    nilai_Kuis = int (nilai_Kuis) *0.3\n",
        "    Nilai_UTS = int (Nilai_UTS) *0.3\n",
        "    nilai_UAS = int (nilai_UAS) *0.3  \n",
        "    Nilai_Akhir = Nilai_Tugas + nilai_Kuis + Nilai_UTS + nilai_UAS\n",
        "    return Nilai_Akhir\n",
        "\n",
        "def fungsi_percabangan (var_nilai) :\n",
        "    var_indeks = \"\"\n",
        "    if (var_nilai >= 0 and var_nilai < 20 ) :\n",
        "      var_indeks = \"E\"\n",
        "    elif (var_nilai >= 20 and var_nilai < 40 ):\n",
        "      var_indeks = \"D\"\n",
        "    elif (var_nilai >= 40 and var_nilai < 60 ):\n",
        "      var_indeks = \"C\"\n",
        "    elif (var_nilai >= 60 and var_nilai < 80 ):\n",
        "      var_indeks = \"B\"\n",
        "    elif (var_nilai >= 80 and var_nilai < 100 ):\n",
        "      var_indeks = \"A\"\n",
        "    return var_indeks\n",
        "\n",
        "def fungsi_perulangan () :\n",
        "  var_hasil_perulangan = 0\n",
        "  for i in range (1,3) :\n",
        "      print (\".........Nilai Ke\" ,i, \".........\")\n",
        "      var_tugas = input (\"nilai_tugas :\")\n",
        "      var_kuis = input (\"nilai_kuis :\")\n",
        "      var_UTS = input (\"nilai_UTS :\")\n",
        "      var_UAS = input (\"nilai_UAS :\")\n",
        "\n",
        "      var_hasil_perulangan += (int(fungsi_total_nilai(var_tugas,var_kuis,var_UTS,var_UAS)))\n",
        "  return var_hasil_perulangan / i\n",
        "\n",
        "var_total = fungsi_perulangan ()\n",
        "\n",
        "print (\".........total nilai.......\")\n",
        "print (\"total nilai akhir yang didapat : \", var_total) \n",
        "\n",
        "print (\"total nilai akhir yang didapat : \", fungsi_percabangan(var_total))\n"
      ],
      "metadata": {
        "colab": {
          "base_uri": "https://localhost:8080/"
        },
        "id": "S5q85irxNnMV",
        "outputId": "08ecd86b-ce49-4e9e-ad09-596dac25f2e0"
      },
      "execution_count": null,
      "outputs": [
        {
          "output_type": "stream",
          "name": "stdout",
          "text": [
            "nama :Mega Kartika Somalinggi\n",
            "nim:H051211026\n",
            "prodi :Statistika\n",
            ".........Nilai Ke 1 .........\n",
            "nilai_tugas :90\n",
            "nilai_kuis :85\n",
            "nilai_UTS :89\n",
            "nilai_UAS :91\n",
            ".........Nilai Ke 2 .........\n",
            "nilai_tugas :90\n",
            "nilai_kuis :89\n",
            "nilai_UTS :89\n",
            "nilai_UAS :91\n",
            ".........total nilai.......\n",
            "total nilai akhir yang didapat :  106.5\n",
            "total nilai akhir yang didapat :  \n"
          ]
        }
      ]
    }
  ]
}