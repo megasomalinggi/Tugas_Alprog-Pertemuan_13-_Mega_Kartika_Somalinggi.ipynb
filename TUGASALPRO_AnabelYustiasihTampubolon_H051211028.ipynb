{
  "nbformat": 4,
  "nbformat_minor": 0,
  "metadata": {
    "colab": {
      "name": "TUGASALPRO_AnabelYustiasihTampubolon_H051211028",
      "provenance": [],
      "authorship_tag": "ABX9TyMyZ+kuedFlHVHuYNuJsahf",
      "include_colab_link": true
    },
    "kernelspec": {
      "name": "python3",
      "display_name": "Python 3"
    },
    "language_info": {
      "name": "python"
    }
  },
  "cells": [
    {
      "cell_type": "markdown",
      "metadata": {
        "id": "view-in-github",
        "colab_type": "text"
      },
      "source": [
        "<a href=\"https://colab.research.google.com/github/megasomalinggi/Tugas_Alprog-Pertemuan_13-_Mega_Kartika_Somalinggi.ipynb/blob/main/TUGASALPRO_AnabelYustiasihTampubolon_H051211028.ipynb\" target=\"_parent\"><img src=\"https://colab.research.google.com/assets/colab-badge.svg\" alt=\"Open In Colab\"/></a>"
      ]
    },
    {
      "cell_type": "code",
      "execution_count": null,
      "metadata": {
        "id": "pS71KVAivMCl"
      },
      "outputs": [],
      "source": [
        "#Buatlah program untuk menghitung penjumlahan 2 buah matriks"
      ]
    },
    {
      "cell_type": "code",
      "source": [
        "matrixA = [[1, 2],[3, 4],]\n",
        "matrixB = [[5, 6],[7, 8],]\n",
        "\n",
        "for x in range(0, len(matrixA)):\n",
        "    for y in range(0, len(matrixA[0])):\n",
        "        print (matrixA[x][y] + matrixB[x][y], end=' '),\n",
        "    print"
      ],
      "metadata": {
        "colab": {
          "base_uri": "https://localhost:8080/"
        },
        "id": "xAOdRbn9vvdF",
        "outputId": "4483eecc-5094-48ac-93bb-83456d6b9581"
      },
      "execution_count": null,
      "outputs": [
        {
          "output_type": "stream",
          "name": "stdout",
          "text": [
            "6 8 10 12 "
          ]
        }
      ]
    },
    {
      "cell_type": "code",
      "source": [
        "#1. Buatlah program untuk menghitung total pembelian N buah barang dengan harga dan jumlah tertentu"
      ],
      "metadata": {
        "id": "WRqGzNsuxgV8"
      },
      "execution_count": null,
      "outputs": []
    },
    {
      "cell_type": "code",
      "source": [
        "x = int(input(\"Masukkan Jumlah Barang :\"))\n",
        "bayar =x\n",
        "if x<150:\n",
        "   bayar =x*10000\n",
        "   print(\"Harga/barang rp.10000\")\n",
        "elif x>=150 and x<200:\n",
        "   bayar =x*9500\n",
        "   print(\"Harga/barang rp.9500\")\n",
        "elif x>=200:\n",
        "   bayar =x*9000\n",
        "   print(\"Harga/barang rp.9000\")\n",
        "\n",
        "print(\"Total harga yang harus dibayar : Rp. %s\"%bayar)"
      ],
      "metadata": {
        "colab": {
          "base_uri": "https://localhost:8080/"
        },
        "id": "T6MzE4dAyo69",
        "outputId": "df281a2c-7274-4857-ec43-e829d5347de7"
      },
      "execution_count": null,
      "outputs": [
        {
          "output_type": "stream",
          "name": "stdout",
          "text": [
            "Masukkan Jumlah Barang :70000\n",
            "Harga/barang rp.9000\n",
            "Total harga yang harus dibayar : Rp. 630000000\n"
          ]
        }
      ]
    },
    {
      "cell_type": "code",
      "source": [
        "#2.Buatlah program untuk menghitung banyaknya bilangan genap ataupun bilangan ganjil dari N buah bilangan yang diinput secara acak"
      ],
      "metadata": {
        "id": "QBFS7hJz8KkD"
      },
      "execution_count": null,
      "outputs": []
    },
    {
      "cell_type": "code",
      "source": [
        "x=int(input(\"masukkan jumlah bilangan- \"))\n",
        "y=1\n",
        "z=0\n",
        "for i in range(x*2):\n",
        "  if i%2==1:\n",
        "    print(\"bilangan ganjil ke- \",y,\":\",i)\n",
        "    y+=1\n",
        "    z+=i\n",
        "print(\"total = \",z)"
      ],
      "metadata": {
        "colab": {
          "base_uri": "https://localhost:8080/"
        },
        "id": "PkIV-39FYaAS",
        "outputId": "bf89c6a4-d622-4bee-f680-9b0fa2c99647"
      },
      "execution_count": null,
      "outputs": [
        {
          "output_type": "stream",
          "name": "stdout",
          "text": [
            "masukkan jumlah bilangan- 5\n",
            "bilangan ganjil ke-  1 : 1\n",
            "bilangan ganjil ke-  2 : 3\n",
            "bilangan ganjil ke-  3 : 5\n",
            "bilangan ganjil ke-  4 : 7\n",
            "bilangan ganjil ke-  5 : 9\n",
            "total =  25\n"
          ]
        }
      ]
    },
    {
      "cell_type": "code",
      "source": [
        "#3.Buatlah program untuk menampilkan bilangan kelipatan 3 diantara bilangan tertentu"
      ],
      "metadata": {
        "id": "oli5MGoS8P9O"
      },
      "execution_count": null,
      "outputs": []
    },
    {
      "cell_type": "code",
      "source": [
        "x = int(input('Masukkan angka : '))\n",
        "\n",
        "if x % 3 == 0 :\n",
        "   print('Nilai kelipatan 3')\n",
        "else :\n",
        "   print('Bukan nilai kelipatan 3')\n"
      ],
      "metadata": {
        "id": "mn3mpPKE9tVK"
      },
      "execution_count": null,
      "outputs": []
    },
    {
      "cell_type": "code",
      "source": [
        "#4.Buatlah program untuk menampilkan bentuk bilangan seperti berikut ini."
      ],
      "metadata": {
        "id": "210NhLtOTt7Q"
      },
      "execution_count": null,
      "outputs": []
    },
    {
      "cell_type": "code",
      "source": [
        "s = \"\"\n",
        "for i in range (1,6):\n",
        "    s += str(i)+\"\"\n",
        "    print(s)"
      ],
      "metadata": {
        "colab": {
          "base_uri": "https://localhost:8080/"
        },
        "id": "GmCP9gptuD-X",
        "outputId": "2e38fc4e-2043-4844-eb07-831a39d70cde"
      },
      "execution_count": null,
      "outputs": [
        {
          "output_type": "stream",
          "name": "stdout",
          "text": [
            "1\n",
            "12\n",
            "123\n",
            "1234\n",
            "12345\n"
          ]
        }
      ]
    },
    {
      "cell_type": "code",
      "source": [
        "#5.Buatlah program untuk menghitung dan menampilkan bentuk berikut ini"
      ],
      "metadata": {
        "id": "GGgoxKEEYJfQ"
      },
      "execution_count": null,
      "outputs": []
    },
    {
      "cell_type": "code",
      "source": [
        "nama = input(\"nama : \")\n",
        "nim  = input(\"nim : \")\n",
        "prodi= input(\"prodi : \")\n",
        "\n",
        "def fungsi_total_nilai(Nilai_Tugas,Nilai_Kuis,Nilai_UTS,Nilai_UAS):\n",
        "    Nilai_Tugas= int(Nilai_Tugas)*0.3\n",
        "    Nilai_Kuis= int(Nilai_Kuis)*0.3\n",
        "    Nilai_UTS= int(Nilai_UTS)*0.3\n",
        "    Nilai_UAS= int(Nilai_UAS)*0.3\n",
        "    Nilai_Akhir= Nilai_Tugas + Nilai_Kuis + Nilai_UTS + Nilai_UAS\n",
        "    return Nilai_Akhir\n",
        "\n",
        "def fungsi_percabangan(var_Nilai):\n",
        "  var_indeks= \"\"\n",
        "  if(var_Nilai >=0 and var_Nilai < 20 ):\n",
        "    var_indeks= \"E\"\n",
        "  elif(var_Nilai >=20 and var_Nilai < 40 ):\n",
        "    var_indeks= \"D\"\n",
        "  elif(var_Nilai >=40 and var_Nilai < 60 ):\n",
        "    var_indeks= \"C\"\n",
        "  elif(var_Nilai >=60 and var_Nilai < 80 ):\n",
        "    var_indeks= \"B\"\n",
        "  elif(var_Nilai >=80 and var_Nilai < 100 ):\n",
        "    var_indeks= \"A\"\n",
        "  return var_indeks \n",
        "\n",
        "def fungsi_pengrulangan () :\n",
        "    var_hasil_pengrulangan = 0\n",
        "    for i in range (1,3) :\n",
        "        print(\"..........Nilai Ke\",i, \"...........\")\n",
        "        var_Tugas= input(\"Nilai_Tugas :\")\n",
        "        var_Kuis= input(\"Nilai_Kuis :\")\n",
        "        var_UTS= input(\"Nilai_UTS :\")\n",
        "        var_UAS= input(\"Nilai_UAS :\")\n",
        "\n",
        "\n",
        "        var_hasil_pengrulangan += (int(fungsi_total_nilai(var_Tugas,var_Kuis,var_UTS,var_UAS)))\n",
        "    return var_hasil_pengrulangan / i\n",
        "var_total= fungsi_pengrulangan ()\n",
        "print(\"..........total nilai......\")\n",
        "print(\"Total Nilai Akhir yang didapat : \", var_total)\n",
        "\n",
        "print(\"Total Nilai Akhir yang didapat : \", fungsi_percabangan(var_total))"
      ],
      "metadata": {
        "colab": {
          "base_uri": "https://localhost:8080/"
        },
        "id": "eGy8_S9ghg38",
        "outputId": "9e6cddf9-f3f6-4e6f-b514-6d60e03da112"
      },
      "execution_count": null,
      "outputs": [
        {
          "output_type": "stream",
          "name": "stdout",
          "text": [
            "nama : Anabel Yustiasih Tampubolon\n",
            "nim : H051211028\n",
            "prodi : Statistika A\n",
            "..........Nilai Ke 1 ...........\n",
            "Nilai_Tugas :80\n",
            "Nilai_Kuis :80\n",
            "Nilai_UTS :80\n",
            "Nilai_UAS :90\n",
            "..........Nilai Ke 2 ...........\n",
            "Nilai_Tugas :100\n",
            "Nilai_Kuis :100\n",
            "Nilai_UTS :90\n",
            "Nilai_UAS :90\n",
            "..........total nilai......\n",
            "Total Nilai Akhir yang didapat :  106.5\n",
            "Total Nilai Akhir yang didapat :  \n"
          ]
        }
      ]
    }
  ]
}